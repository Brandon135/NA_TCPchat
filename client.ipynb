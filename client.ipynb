{
 "cells": [
  {
   "cell_type": "code",
   "execution_count": null,
   "metadata": {},
   "outputs": [
    {
     "name": "stdout",
     "output_type": "stream",
     "text": [
      "\n",
      "received:  SD\n"
     ]
    }
   ],
   "source": [
    "#Basic Client\n",
    "import socket\n",
    "import threading\n",
    "\n",
    "\n",
    "def handler(sock):\n",
    "    \n",
    "    while True:\n",
    "        data = sock.recv(1024)\n",
    "        print('\\nreceived: ',data.decode())\n",
    "        \n",
    "\n",
    "sock = socket.socket(socket.AF_INET, socket.SOCK_STREAM)\n",
    "host = input(\"Server Address(default=127.0.0.1): \")\n",
    "if host == '':\n",
    "    host = '127.0.0.1'\n",
    "sock.connect((host, 2501))\n",
    "cThread = threading.Thread(target=handler, args=(sock,))\n",
    "cThread.daemon = True\n",
    "cThread.start()\n",
    "\n",
    "while True:\n",
    "    msg = input('> ')\n",
    "    sock.send(msg.encode())"
   ]
  }
 ],
 "metadata": {
  "kernelspec": {
   "display_name": "Python 3",
   "language": "python",
   "name": "python3"
  },
  "language_info": {
   "codemirror_mode": {
    "name": "ipython",
    "version": 3
   },
   "file_extension": ".py",
   "mimetype": "text/x-python",
   "name": "python",
   "nbconvert_exporter": "python",
   "pygments_lexer": "ipython3",
   "version": "3.11.2"
  }
 },
 "nbformat": 4,
 "nbformat_minor": 2
}
