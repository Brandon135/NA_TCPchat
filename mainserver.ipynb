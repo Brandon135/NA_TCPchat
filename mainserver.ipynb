{
 "cells": [
  {
   "cell_type": "markdown",
   "metadata": {},
   "source": []
  },
  {
   "cell_type": "code",
   "execution_count": null,
   "metadata": {},
   "outputs": [
    {
     "ename": "OSError",
     "evalue": "[WinError 10048] 각 소켓 주소(프로토콜/네트워크 주소/포트)는 하나만 사용할 수 있습니다",
     "output_type": "error",
     "traceback": [
      "\u001b[1;31m---------------------------------------------------------------------------\u001b[0m",
      "\u001b[1;31mOSError\u001b[0m                                   Traceback (most recent call last)",
      "Cell \u001b[1;32mIn[7], line 29\u001b[0m\n\u001b[0;32m     27\u001b[0m \u001b[38;5;28;01mif\u001b[39;00m \u001b[38;5;18m__name__\u001b[39m \u001b[38;5;241m==\u001b[39m \u001b[38;5;124m\"\u001b[39m\u001b[38;5;124m__main__\u001b[39m\u001b[38;5;124m\"\u001b[39m:\n\u001b[0;32m     28\u001b[0m     HOST, PORT \u001b[38;5;241m=\u001b[39m \u001b[38;5;124m\"\u001b[39m\u001b[38;5;124m\"\u001b[39m, \u001b[38;5;241m2501\u001b[39m\n\u001b[1;32m---> 29\u001b[0m     server \u001b[38;5;241m=\u001b[39m \u001b[43msocketserver\u001b[49m\u001b[38;5;241;43m.\u001b[39;49m\u001b[43mTCPServer\u001b[49m\u001b[43m(\u001b[49m\u001b[43m(\u001b[49m\u001b[43mHOST\u001b[49m\u001b[43m,\u001b[49m\u001b[43m \u001b[49m\u001b[43mPORT\u001b[49m\u001b[43m)\u001b[49m\u001b[43m,\u001b[49m\u001b[43m \u001b[49m\u001b[43mTCPHandler\u001b[49m\u001b[43m,\u001b[49m\u001b[43m \u001b[49m\u001b[43mbind_and_activate\u001b[49m\u001b[38;5;241;43m=\u001b[39;49m\u001b[38;5;28;43;01mTrue\u001b[39;49;00m\u001b[43m)\u001b[49m\n\u001b[0;32m     31\u001b[0m     \u001b[38;5;66;03m# 서버를 별도의 스레드에서 실행\u001b[39;00m\n\u001b[0;32m     32\u001b[0m     server_thread \u001b[38;5;241m=\u001b[39m threading\u001b[38;5;241m.\u001b[39mThread(target\u001b[38;5;241m=\u001b[39mserver\u001b[38;5;241m.\u001b[39mserve_forever)\n",
      "File \u001b[1;32mc:\\Users\\fun67\\AppData\\Local\\Programs\\Python\\Python310\\lib\\socketserver.py:452\u001b[0m, in \u001b[0;36mTCPServer.__init__\u001b[1;34m(self, server_address, RequestHandlerClass, bind_and_activate)\u001b[0m\n\u001b[0;32m    450\u001b[0m \u001b[38;5;28;01mif\u001b[39;00m bind_and_activate:\n\u001b[0;32m    451\u001b[0m     \u001b[38;5;28;01mtry\u001b[39;00m:\n\u001b[1;32m--> 452\u001b[0m         \u001b[38;5;28;43mself\u001b[39;49m\u001b[38;5;241;43m.\u001b[39;49m\u001b[43mserver_bind\u001b[49m\u001b[43m(\u001b[49m\u001b[43m)\u001b[49m\n\u001b[0;32m    453\u001b[0m         \u001b[38;5;28mself\u001b[39m\u001b[38;5;241m.\u001b[39mserver_activate()\n\u001b[0;32m    454\u001b[0m     \u001b[38;5;28;01mexcept\u001b[39;00m:\n",
      "File \u001b[1;32mc:\\Users\\fun67\\AppData\\Local\\Programs\\Python\\Python310\\lib\\socketserver.py:466\u001b[0m, in \u001b[0;36mTCPServer.server_bind\u001b[1;34m(self)\u001b[0m\n\u001b[0;32m    464\u001b[0m \u001b[38;5;28;01mif\u001b[39;00m \u001b[38;5;28mself\u001b[39m\u001b[38;5;241m.\u001b[39mallow_reuse_address:\n\u001b[0;32m    465\u001b[0m     \u001b[38;5;28mself\u001b[39m\u001b[38;5;241m.\u001b[39msocket\u001b[38;5;241m.\u001b[39msetsockopt(socket\u001b[38;5;241m.\u001b[39mSOL_SOCKET, socket\u001b[38;5;241m.\u001b[39mSO_REUSEADDR, \u001b[38;5;241m1\u001b[39m)\n\u001b[1;32m--> 466\u001b[0m \u001b[38;5;28;43mself\u001b[39;49m\u001b[38;5;241;43m.\u001b[39;49m\u001b[43msocket\u001b[49m\u001b[38;5;241;43m.\u001b[39;49m\u001b[43mbind\u001b[49m\u001b[43m(\u001b[49m\u001b[38;5;28;43mself\u001b[39;49m\u001b[38;5;241;43m.\u001b[39;49m\u001b[43mserver_address\u001b[49m\u001b[43m)\u001b[49m\n\u001b[0;32m    467\u001b[0m \u001b[38;5;28mself\u001b[39m\u001b[38;5;241m.\u001b[39mserver_address \u001b[38;5;241m=\u001b[39m \u001b[38;5;28mself\u001b[39m\u001b[38;5;241m.\u001b[39msocket\u001b[38;5;241m.\u001b[39mgetsockname()\n",
      "\u001b[1;31mOSError\u001b[0m: [WinError 10048] 각 소켓 주소(프로토콜/네트워크 주소/포트)는 하나만 사용할 수 있습니다"
     ]
    }
   ],
   "source": [
    "#Basic Server\n",
    "\n",
    "import socketserver\n",
    "import threading\n",
    "\n",
    "class TCPHandler(socketserver.BaseRequestHandler):\n",
    "    def setup(self):  # 연결 설정\n",
    "        print(\"Connected\")\n",
    "        \n",
    "    def handle(self):  # 데이터 수신\n",
    "        while True:  # 연결을 유지하려면 무한 루프 실행\n",
    "            try:\n",
    "                self.data = self.request.recv(1024).strip()\n",
    "                if not self.data:\n",
    "                    return\n",
    "            except:\n",
    "                self.finish()\n",
    "                return\n",
    "            print(\"{} wrote:\".format(self.client_address[0]))\n",
    "            print(self.data)\n",
    "\n",
    "            # 수신 메시지 전송\n",
    "            self.request.sendall(self.data.upper())\n",
    "    \n",
    "    def finish(self):  # 연결 해제\n",
    "        print(\"Disconnected\")\n",
    "        self.request.close()\n",
    "\n",
    "if __name__ == \"__main__\":\n",
    "    HOST, PORT = \"\", 2501\n",
    "    server = socketserver.TCPServer((HOST, PORT), TCPHandler, bind_and_activate=True)\n",
    "\n",
    "    # 서버를 별도의 스레드에서 실행\n",
    "    server_thread = threading.Thread(target=server.serve_forever)\n",
    "    server_thread.daemon = True  # 메인 스레드 종료 시 함께 종료\n",
    "    server_thread.start()\n",
    "\n",
    "    print(\"Server running in thread\", server_thread.name)\n"
   ]
  },
  {
   "cell_type": "markdown",
   "metadata": {},
   "source": []
  },
  {
   "cell_type": "markdown",
   "metadata": {},
   "source": []
  }
 ],
 "metadata": {
  "kernelspec": {
   "display_name": "Python 3",
   "language": "python",
   "name": "python3"
  },
  "language_info": {
   "codemirror_mode": {
    "name": "ipython",
    "version": 3
   },
   "file_extension": ".py",
   "mimetype": "text/x-python",
   "name": "python",
   "nbconvert_exporter": "python",
   "pygments_lexer": "ipython3",
   "version": "3.10.9"
  }
 },
 "nbformat": 4,
 "nbformat_minor": 2
}
